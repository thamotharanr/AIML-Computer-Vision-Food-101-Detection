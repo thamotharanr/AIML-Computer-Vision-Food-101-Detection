{
 "cells": [
  {
   "cell_type": "code",
   "execution_count": 1,
   "id": "fe0196f3",
   "metadata": {},
   "outputs": [
    {
     "name": "stdout",
     "output_type": "stream",
     "text": [
      "Requirement already satisfied: requests in ./lib/python3.13/site-packages (2.32.3)\n",
      "Requirement already satisfied: pandas in ./lib/python3.13/site-packages (2.2.3)\n",
      "Requirement already satisfied: charset-normalizer<4,>=2 in ./lib/python3.13/site-packages (from requests) (3.4.2)\n",
      "Requirement already satisfied: idna<4,>=2.5 in ./lib/python3.13/site-packages (from requests) (3.10)\n",
      "Requirement already satisfied: urllib3<3,>=1.21.1 in ./lib/python3.13/site-packages (from requests) (2.4.0)\n",
      "Requirement already satisfied: certifi>=2017.4.17 in ./lib/python3.13/site-packages (from requests) (2025.4.26)\n",
      "Requirement already satisfied: numpy>=1.26.0 in ./lib/python3.13/site-packages (from pandas) (2.2.6)\n",
      "Requirement already satisfied: python-dateutil>=2.8.2 in ./lib/python3.13/site-packages (from pandas) (2.9.0.post0)\n",
      "Requirement already satisfied: pytz>=2020.1 in ./lib/python3.13/site-packages (from pandas) (2025.2)\n",
      "Requirement already satisfied: tzdata>=2022.7 in ./lib/python3.13/site-packages (from pandas) (2025.2)\n",
      "Requirement already satisfied: six>=1.5 in ./lib/python3.13/site-packages (from python-dateutil>=2.8.2->pandas) (1.17.0)\n",
      "\n",
      "\u001b[1m[\u001b[0m\u001b[34;49mnotice\u001b[0m\u001b[1;39;49m]\u001b[0m\u001b[39;49m A new release of pip is available: \u001b[0m\u001b[31;49m25.0.1\u001b[0m\u001b[39;49m -> \u001b[0m\u001b[32;49m25.1.1\u001b[0m\n",
      "\u001b[1m[\u001b[0m\u001b[34;49mnotice\u001b[0m\u001b[1;39;49m]\u001b[0m\u001b[39;49m To update, run: \u001b[0m\u001b[32;49mpip install --upgrade pip\u001b[0m\n",
      "Note: you may need to restart the kernel to use updated packages.\n"
     ]
    }
   ],
   "source": [
    "pip install requests pandas"
   ]
  },
  {
   "cell_type": "code",
   "execution_count": 6,
   "id": "79a10625",
   "metadata": {},
   "outputs": [],
   "source": [
    "import requests\n",
    "import pandas as pd\n",
    "import base64\n",
    "import os\n",
    "import tqdm"
   ]
  },
  {
   "cell_type": "code",
   "execution_count": 12,
   "id": "9ef856a9",
   "metadata": {},
   "outputs": [],
   "source": [
    "# Configuration\n",
    "ROBOFLOW_API_KEY = \"gTF1TpI6ZRLe9RyVr7gr\"\n",
    "ROBOFLOW_PROJECT = \"aiml-cv-food-101-dectection\""
   ]
  },
  {
   "cell_type": "code",
   "execution_count": 13,
   "id": "86644b0f",
   "metadata": {},
   "outputs": [],
   "source": [
    "# Utility function to generate Annoatation\n",
    "\n",
    "# Upload image to Roboflow\n",
    "def process_image(image_path):\n",
    "    with open(image_path, \"rb\") as image_file:\n",
    "        image_data = base64.b64encode(image_file.read()).decode(\"utf-8\")\n",
    "    \n",
    "    url = f\"https://detect.roboflow.com/{ROBOFLOW_PROJECT}/1?api_key={ROBOFLOW_API_KEY}\"\n",
    "    response = requests.post(url, data=image_data, headers={\"Content-Type\": \"application/x-www-form-urlencoded\"})\n",
    "\n",
    "    if response.status_code == 200:\n",
    "        return response.json()\n",
    "    else:\n",
    "        raise Exception(f\"Error: {response.status_code}, {response.text}\")\n",
    "\n",
    "# Parse annotation and write CSV\n",
    "def write_annotations_to_csv(response_json, output_csv=\"Food_101/annotations.csv\"):\n",
    "    predictions = response_json.get(\"predictions\", [])\n",
    "\n",
    "    rows = []\n",
    "    for pred in predictions:\n",
    "        rows.append({\n",
    "            \"class\": pred.get(\"class\", \"N/A\"),\n",
    "            \"x\": pred.get(\"x\"),\n",
    "            \"y\": pred.get(\"y\"),\n",
    "            \"width\": pred.get(\"width\"),\n",
    "            \"height\": pred.get(\"height\"),\n",
    "            \"confidence\": pred.get(\"confidence\")\n",
    "        })\n",
    "\n",
    "    df = pd.DataFrame(rows)\n",
    "    df.to_csv(output_csv, index=False)\n",
    "    print(f\"Annotations saved to {output_csv}\")"
   ]
  },
  {
   "cell_type": "code",
   "execution_count": 14,
   "id": "205626b0",
   "metadata": {},
   "outputs": [
    {
     "name": "stderr",
     "output_type": "stream",
     "text": [
      "Processing Images:   0%|          | 0/1 [00:04<?, ?it/s]"
     ]
    },
    {
     "name": "stdout",
     "output_type": "stream",
     "text": [
      "Failed: Error: 403, {\"message\":\"Forbidden\"}\n"
     ]
    },
    {
     "name": "stderr",
     "output_type": "stream",
     "text": [
      "\n"
     ]
    }
   ],
   "source": [
    "from tqdm import tqdm  # Make sure this import exists\n",
    "image_dir = \"Food_101/\"\n",
    "annotate_details = []\n",
    "try:\n",
    "    for root, _, filenames in os.walk(image_dir):\n",
    "        for fname in tqdm(filenames, desc=\"Processing Images\"):\n",
    "            full_path = os.path.join(root, fname)\n",
    "            result = process_image(full_path)\n",
    "            write_annotations_to_csv(result)\n",
    "except Exception as e:\n",
    "    print(f\"Failed: {e}\")\n"
   ]
  }
 ],
 "metadata": {
  "kernelspec": {
   "display_name": "Capstone Project",
   "language": "python",
   "name": "python3"
  },
  "language_info": {
   "codemirror_mode": {
    "name": "ipython",
    "version": 3
   },
   "file_extension": ".py",
   "mimetype": "text/x-python",
   "name": "python",
   "nbconvert_exporter": "python",
   "pygments_lexer": "ipython3",
   "version": "3.13.3"
  }
 },
 "nbformat": 4,
 "nbformat_minor": 5
}
