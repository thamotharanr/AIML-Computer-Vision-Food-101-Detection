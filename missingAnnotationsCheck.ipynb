{
 "cells": [
  {
   "cell_type": "code",
   "execution_count": 10,
   "id": "d8eeebcf",
   "metadata": {},
   "outputs": [
    {
     "name": "stdout",
     "output_type": "stream",
     "text": [
      "['2934928.jpg', '2861144.jpg', '2923139.jpg', '2983047.jpg', '3004621.jpg', '2994917.jpg', '3025907.jpg', '2918880.jpg', '2902847.jpg', '2928660.jpg', '3021995.jpg', '3027601.jpg', '2911613.jpg', '2929330.jpg', '2856319.jpg', '2986199.jpg', '2869633.jpg', '2975948.jpg', '2900219.jpg', '2909830.jpg', '2961406.jpg', '3018695.jpg', '2968495.jpg', '2945592.jpg', '2909139.jpg', '2872568.jpg', '2989799.jpg', '2961496.jpg', '2955004.jpg', '2914000.jpg', '2911777.jpg', '2956823.jpg', '3023096.jpg', '2940483.jpg', '2921600.jpg', '2968812.jpg', '2997124.jpg', '2929448.jpg', '2989031.jpg', '2977851.jpg', '2967700.jpg', '2924795.jpg', '2915359.jpg', '2922138.jpg', '2969119.jpg', '2881877.jpg', '2878249.jpg', '2874860.jpg', '3177727.jpg']\n"
     ]
    },
    {
     "name": "stderr",
     "output_type": "stream",
     "text": [
      "Processing Images: 100%|██████████| 51/51 [00:00<00:00, 717817.13it/s]"
     ]
    },
    {
     "name": "stdout",
     "output_type": "stream",
     "text": [
      "Image processing completed.\n",
      "['2968812.jpg', '2989031.jpg', '2961406.jpg', '3177727.jpg', '2929330.jpg', '2955004.jpg', '2977851.jpg', '2922138.jpg', '2881877.jpg', '2983047.jpg', '.DS_Store', '2948680.jpg', '3021995.jpg', '2918880.jpg', '2856319.jpg', '2967700.jpg', '3018695.jpg', '2874860.jpg', '3004621.jpg', '3027601.jpg', '2940483.jpg', '2997124.jpg', '2928660.jpg', '2968495.jpg', '2902847.jpg', '2986199.jpg', '2872568.jpg', '2914000.jpg', '2911613.jpg', '2975948.jpg', '2934928.jpg', '2923139.jpg', '2878249.jpg', '2956823.jpg', '3023096.jpg', '2909139.jpg', '2869633.jpg', '2911777.jpg', '2961496.jpg', '2900219.jpg', '2915359.jpg', '2969119.jpg', '2994917.jpg', '2924795.jpg', '2929448.jpg', '2945592.jpg', '2861144.jpg', '2909830.jpg', '3025907.jpg', '2989799.jpg', '2921600.jpg']\n",
      "Items only in list1: ['.DS_Store', '2948680.jpg']\n"
     ]
    },
    {
     "name": "stderr",
     "output_type": "stream",
     "text": [
      "\n"
     ]
    }
   ],
   "source": [
    "import json\n",
    "import os\n",
    "from tqdm import tqdm  # Make sure this import exists\n",
    "# Load JSON file\n",
    "with open(\"dataset.json\", \"r\") as f:\n",
    "    data = json.load(f)\n",
    "\n",
    "annotations = []\n",
    "# Loop through all objects and print the 'key' from the converted field\n",
    "for obj in data[\"annotations\"][\"objects\"]:\n",
    "    if \"converted\" in obj:\n",
    "        # Parse the 'converted' string into JSON\n",
    "        converted = json.loads(obj[\"converted\"])\n",
    "        annotations.append(converted[\"key\"])\n",
    "\n",
    "print(annotations)\n",
    "\n",
    "from tqdm import tqdm  # Make sure this import exists\n",
    "image_dir = \"Food_101/apple_pie\"\n",
    "annotate_details = []\n",
    "try:\n",
    "    for root, _, filenames in os.walk(image_dir):\n",
    "        for fname in tqdm(filenames, desc=\"Processing Images\"):\n",
    "            annotate_details.append(fname)\n",
    "    print(\"Image processing completed.\")\n",
    "    print(annotate_details)\n",
    "except Exception as e:\n",
    "    print(f\"Failed: {e}\")\n",
    "\n",
    "difference = list(set(annotate_details) - set(annotations))\n",
    "print(\"Items only in list1:\", difference)\n"
   ]
  }
 ],
 "metadata": {
  "kernelspec": {
   "display_name": "Capstone Project",
   "language": "python",
   "name": "python3"
  },
  "language_info": {
   "codemirror_mode": {
    "name": "ipython",
    "version": 3
   },
   "file_extension": ".py",
   "mimetype": "text/x-python",
   "name": "python",
   "nbconvert_exporter": "python",
   "pygments_lexer": "ipython3",
   "version": "3.13.3"
  }
 },
 "nbformat": 4,
 "nbformat_minor": 5
}
